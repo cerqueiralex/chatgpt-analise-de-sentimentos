{
  "nbformat": 4,
  "nbformat_minor": 0,
  "metadata": {
    "colab": {
      "provenance": []
    },
    "kernelspec": {
      "name": "python3",
      "display_name": "Python 3"
    },
    "language_info": {
      "name": "python"
    }
  },
  "cells": [
    {
      "cell_type": "markdown",
      "source": [
        "#Análise de Sentimentos de processo seletivo (RH) utilizando ChatGPT em Python e Matplotlib\n",
        "\n",
        "---\n",
        "\n",
        "Criado por Alexandre Polselli\n",
        "\n",
        "##**Recursos**\n",
        "\n",
        "Artigo de apresentação da ferramenta: https://alexandrepolselli.com.br/analise-de-sentimentos-utilizada-em-processo-seletivo-rh-utilizando-chatgpt-em-python-e-matplotlib/\n",
        "\n",
        "Github: https://github.com/cerqueiralex/chatgpt-analise-de-sentimentos"
      ],
      "metadata": {
        "id": "eO_Iaez4YrRB"
      }
    },
    {
      "cell_type": "code",
      "execution_count": null,
      "metadata": {
        "colab": {
          "base_uri": "https://localhost:8080/"
        },
        "id": "q-PvIcd3YK3O",
        "outputId": "a3ded6f4-ceff-4351-8cf4-3f4d33a61ae9"
      },
      "outputs": [
        {
          "output_type": "stream",
          "name": "stdout",
          "text": [
            "Looking in indexes: https://pypi.org/simple, https://us-python.pkg.dev/colab-wheels/public/simple/\n",
            "Collecting openai\n",
            "  Downloading openai-0.27.8-py3-none-any.whl (73 kB)\n",
            "\u001b[2K     \u001b[90m━━━━━━━━━━━━━━━━━━━━━━━━━━━━━━━━━━━━━━━━\u001b[0m \u001b[32m73.6/73.6 kB\u001b[0m \u001b[31m4.5 MB/s\u001b[0m eta \u001b[36m0:00:00\u001b[0m\n",
            "\u001b[?25hRequirement already satisfied: requests>=2.20 in /usr/local/lib/python3.10/dist-packages (from openai) (2.27.1)\n",
            "Requirement already satisfied: tqdm in /usr/local/lib/python3.10/dist-packages (from openai) (4.65.0)\n",
            "Collecting aiohttp (from openai)\n",
            "  Downloading aiohttp-3.8.4-cp310-cp310-manylinux_2_17_x86_64.manylinux2014_x86_64.whl (1.0 MB)\n",
            "\u001b[2K     \u001b[90m━━━━━━━━━━━━━━━━━━━━━━━━━━━━━━━━━━━━━━━━\u001b[0m \u001b[32m1.0/1.0 MB\u001b[0m \u001b[31m33.4 MB/s\u001b[0m eta \u001b[36m0:00:00\u001b[0m\n",
            "\u001b[?25hRequirement already satisfied: urllib3<1.27,>=1.21.1 in /usr/local/lib/python3.10/dist-packages (from requests>=2.20->openai) (1.26.15)\n",
            "Requirement already satisfied: certifi>=2017.4.17 in /usr/local/lib/python3.10/dist-packages (from requests>=2.20->openai) (2022.12.7)\n",
            "Requirement already satisfied: charset-normalizer~=2.0.0 in /usr/local/lib/python3.10/dist-packages (from requests>=2.20->openai) (2.0.12)\n",
            "Requirement already satisfied: idna<4,>=2.5 in /usr/local/lib/python3.10/dist-packages (from requests>=2.20->openai) (3.4)\n",
            "Requirement already satisfied: attrs>=17.3.0 in /usr/local/lib/python3.10/dist-packages (from aiohttp->openai) (23.1.0)\n",
            "Collecting multidict<7.0,>=4.5 (from aiohttp->openai)\n",
            "  Downloading multidict-6.0.4-cp310-cp310-manylinux_2_17_x86_64.manylinux2014_x86_64.whl (114 kB)\n",
            "\u001b[2K     \u001b[90m━━━━━━━━━━━━━━━━━━━━━━━━━━━━━━━━━━━━━━\u001b[0m \u001b[32m114.5/114.5 kB\u001b[0m \u001b[31m17.2 MB/s\u001b[0m eta \u001b[36m0:00:00\u001b[0m\n",
            "\u001b[?25hCollecting async-timeout<5.0,>=4.0.0a3 (from aiohttp->openai)\n",
            "  Downloading async_timeout-4.0.2-py3-none-any.whl (5.8 kB)\n",
            "Collecting yarl<2.0,>=1.0 (from aiohttp->openai)\n",
            "  Downloading yarl-1.9.2-cp310-cp310-manylinux_2_17_x86_64.manylinux2014_x86_64.whl (268 kB)\n",
            "\u001b[2K     \u001b[90m━━━━━━━━━━━━━━━━━━━━━━━━━━━━━━━━━━━━━━\u001b[0m \u001b[32m268.8/268.8 kB\u001b[0m \u001b[31m17.0 MB/s\u001b[0m eta \u001b[36m0:00:00\u001b[0m\n",
            "\u001b[?25hCollecting frozenlist>=1.1.1 (from aiohttp->openai)\n",
            "  Downloading frozenlist-1.3.3-cp310-cp310-manylinux_2_5_x86_64.manylinux1_x86_64.manylinux_2_17_x86_64.manylinux2014_x86_64.whl (149 kB)\n",
            "\u001b[2K     \u001b[90m━━━━━━━━━━━━━━━━━━━━━━━━━━━━━━━━━━━━━━\u001b[0m \u001b[32m149.6/149.6 kB\u001b[0m \u001b[31m12.8 MB/s\u001b[0m eta \u001b[36m0:00:00\u001b[0m\n",
            "\u001b[?25hCollecting aiosignal>=1.1.2 (from aiohttp->openai)\n",
            "  Downloading aiosignal-1.3.1-py3-none-any.whl (7.6 kB)\n",
            "Installing collected packages: multidict, frozenlist, async-timeout, yarl, aiosignal, aiohttp, openai\n",
            "Successfully installed aiohttp-3.8.4 aiosignal-1.3.1 async-timeout-4.0.2 frozenlist-1.3.3 multidict-6.0.4 openai-0.27.8 yarl-1.9.2\n"
          ]
        }
      ],
      "source": [
        "!pip install openai"
      ]
    },
    {
      "cell_type": "code",
      "source": [
        "!pip install load_dotenv"
      ],
      "metadata": {
        "colab": {
          "base_uri": "https://localhost:8080/"
        },
        "id": "00hLGC_nYkPg",
        "outputId": "902d4e79-1751-4825-8e13-42d856ee35fa"
      },
      "execution_count": null,
      "outputs": [
        {
          "output_type": "stream",
          "name": "stdout",
          "text": [
            "Looking in indexes: https://pypi.org/simple, https://us-python.pkg.dev/colab-wheels/public/simple/\n",
            "Collecting load_dotenv\n",
            "  Downloading load_dotenv-0.1.0-py3-none-any.whl (7.2 kB)\n",
            "Collecting python-dotenv (from load_dotenv)\n",
            "  Downloading python_dotenv-1.0.0-py3-none-any.whl (19 kB)\n",
            "Installing collected packages: python-dotenv, load_dotenv\n",
            "Successfully installed load_dotenv-0.1.0 python-dotenv-1.0.0\n"
          ]
        }
      ]
    },
    {
      "cell_type": "code",
      "source": [
        "import openai\n",
        "\n",
        "from dotenv import load_dotenv, find_dotenv\n",
        "_ = load_dotenv(find_dotenv()) # Ler o arquivo .env local.\n",
        "\n",
        "openai.api_key  = ('CHAVE API OPENAI')"
      ],
      "metadata": {
        "id": "j1LpvJNGYp1y"
      },
      "execution_count": null,
      "outputs": []
    },
    {
      "cell_type": "code",
      "source": [
        "def get_completion(prompt, model=\"gpt-3.5-turbo\"):\n",
        "    messages = [{\"role\": \"user\", \"content\": prompt}]\n",
        "    response = openai.ChatCompletion.create(\n",
        "        model=model,\n",
        "        messages=messages,\n",
        "        temperature=0, # Este é o grau de aleatoriedade da saída do modelo.\n",
        "    )\n",
        "    return response.choices[0].message[\"content\"]"
      ],
      "metadata": {
        "id": "6nAU4QNv5cbg"
      },
      "execution_count": null,
      "outputs": []
    },
    {
      "cell_type": "markdown",
      "source": [
        "#Primeira Automação [V.10]\n"
      ],
      "metadata": {
        "id": "pFo8-SDk-M4l"
      }
    },
    {
      "cell_type": "code",
      "source": [
        "import csv"
      ],
      "metadata": {
        "id": "_ud46oSd-Rfq"
      },
      "execution_count": null,
      "outputs": []
    },
    {
      "cell_type": "code",
      "source": [
        "nome_arquivo = 'arquivo_feedbacks.csv'\n",
        "\n",
        "# Abre o arquivo CSV e cria o objeto leitor\n",
        "with open(nome_arquivo, 'r') as arquivo_csv:\n",
        "    leitor = csv.reader(arquivo_csv)\n",
        "\n",
        "    # Transforma os dados do leitor em uma lista\n",
        "    reviews = list(leitor)"
      ],
      "metadata": {
        "id": "VHgP_DyT-Tt4"
      },
      "execution_count": null,
      "outputs": []
    },
    {
      "cell_type": "code",
      "source": [
        "#JSON Formatting\n",
        "prompt = f\"\"\"\n",
        "Identify the following items from each item in the reviews list:\n",
        "- The ID for each respective review, starting with 0\n",
        "- Sentiment (very positive, positive, neutral, negative or very negative)\n",
        "- Is the reviewer expressing anger? (true or false)\n",
        "- A list of emotions that the writer of the review is expressing\n",
        "\n",
        "The reviews list is delimited with triple backticks.\n",
        "Format your response as a JSON object with \"ID, \"Sentiment\", \"Anger\" and \"Emotions\" as the keys.\n",
        "If the information isn't present, use \"unknown\" as the value.\n",
        "Make your response as short as possible.\n",
        "Format the Anger value as a boolean.\n",
        "Dont write more than 5 emotions\n",
        "\n",
        "Reviews list: '''{reviews}'''\n",
        "\"\"\"\n",
        "response = get_completion(prompt)\n",
        "print(response)"
      ],
      "metadata": {
        "colab": {
          "base_uri": "https://localhost:8080/"
        },
        "id": "tn6trxdzEQvX",
        "outputId": "d8fad7b2-6f43-4061-c54b-9666f6400287"
      },
      "execution_count": null,
      "outputs": [
        {
          "output_type": "stream",
          "name": "stdout",
          "text": [
            "{\n",
            "  \"0\": {\n",
            "    \"ID\": \"0\",\n",
            "    \"Sentiment\": \"very negative\",\n",
            "    \"Anger\": true,\n",
            "    \"Emotions\": [\"hatred\", \"anger\", \"unprofessionalism\"]\n",
            "  },\n",
            "  \"1\": {\n",
            "    \"ID\": \"1\",\n",
            "    \"Sentiment\": \"negative\",\n",
            "    \"Anger\": false,\n",
            "    \"Emotions\": [\"doubt\", \"poor management\"]\n",
            "  },\n",
            "  \"2\": {\n",
            "    \"ID\": \"2\",\n",
            "    \"Sentiment\": \"neutral\",\n",
            "    \"Anger\": false,\n",
            "    \"Emotions\": [\"uncertainty\"]\n",
            "  },\n",
            "  \"3\": {\n",
            "    \"ID\": \"3\",\n",
            "    \"Sentiment\": \"unknown\",\n",
            "    \"Anger\": false,\n",
            "    \"Emotions\": [\"uncertainty\"]\n",
            "  },\n",
            "  \"4\": {\n",
            "    \"ID\": \"4\",\n",
            "    \"Sentiment\": \"positive\",\n",
            "    \"Anger\": false,\n",
            "    \"Emotions\": [\"professionalism\"]\n",
            "  },\n",
            "  \"5\": {\n",
            "    \"ID\": \"5\",\n",
            "    \"Sentiment\": \"very positive\",\n",
            "    \"Anger\": false,\n",
            "    \"Emotions\": [\"love\", \"amazement\"]\n",
            "  }\n",
            "}\n"
          ]
        }
      ]
    },
    {
      "cell_type": "markdown",
      "source": [
        "#Visualização\n"
      ],
      "metadata": {
        "id": "n3wY_LyiMhJ1"
      }
    },
    {
      "cell_type": "code",
      "source": [
        "import matplotlib.pyplot as plt\n",
        "import json as js"
      ],
      "metadata": {
        "id": "JPpOZC4fMkf9"
      },
      "execution_count": null,
      "outputs": []
    },
    {
      "cell_type": "code",
      "source": [
        "data_json = js.loads(response)"
      ],
      "metadata": {
        "id": "j3QAjFskSq_j"
      },
      "execution_count": null,
      "outputs": []
    },
    {
      "cell_type": "code",
      "source": [
        "# Inicializar o dicionário para armazenar as contagens\n",
        "dicionario_contagens = {}\n",
        "\n",
        "# Calcular a quantidade de cada tipo de valor dentro da chave 'Sentiment'\n",
        "for item in data_json.values():\n",
        "    sentiment = item['Sentiment']\n",
        "    if sentiment in dicionario_contagens:\n",
        "        dicionario_contagens[sentiment] += 1\n",
        "    else:\n",
        "        dicionario_contagens[sentiment] = 1\n",
        "\n",
        "print(dicionario_contagens)"
      ],
      "metadata": {
        "colab": {
          "base_uri": "https://localhost:8080/"
        },
        "id": "JVgVzNG-MnOO",
        "outputId": "51fa9260-f23b-497b-f687-f97e6edc8116"
      },
      "execution_count": null,
      "outputs": [
        {
          "output_type": "stream",
          "name": "stdout",
          "text": [
            "{'very negative': 1, 'negative': 1, 'neutral': 1, 'unknown': 1, 'positive': 1, 'very positive': 1}\n"
          ]
        }
      ]
    },
    {
      "cell_type": "code",
      "source": [
        "# Preparar os dados para o gráfico de pizza\n",
        "labels = list(dicionario_contagens.keys())\n",
        "values = list(dicionario_contagens.values())\n",
        "\n",
        "# Criar o gráfico de pizza\n",
        "fig, ax = plt.subplots()\n",
        "ax.pie(values, labels=labels, autopct='%1.1f%%', startangle=90)\n",
        "\n",
        "# Ajustar aspectos visuais\n",
        "ax.axis('equal')  # Torna o gráfico circular\n",
        "plt.title('Distribuição dos Valores')\n",
        "plt.legend()\n",
        "\n",
        "# Exibir o gráfico\n",
        "plt.show()\n"
      ],
      "metadata": {
        "colab": {
          "base_uri": "https://localhost:8080/",
          "height": 428
        },
        "id": "qHIrk4wQhU0J",
        "outputId": "12eb10da-30b5-4d6a-fe98-3d7fd78bd02f"
      },
      "execution_count": null,
      "outputs": [
        {
          "output_type": "display_data",
          "data": {
            "text/plain": [
              "<Figure size 640x480 with 1 Axes>"
            ],
            "image/png": "[encoded data removed]"
          },
          "metadata": {}
        }
      ]
    }
  ]
}